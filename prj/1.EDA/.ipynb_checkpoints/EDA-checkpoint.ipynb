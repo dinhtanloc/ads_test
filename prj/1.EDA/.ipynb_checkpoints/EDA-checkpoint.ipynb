{
 "cells": [
  {
   "cell_type": "markdown",
   "id": "35976737",
   "metadata": {},
   "source": [
    "# Data Automobie Insurance\n",
    "    - Tập dữ liệu Automobile Insurance là các thông tin về các đơn yêu cầu bồi thường do một công ty bảo hiểm cung cấp. Từ những thông tin của khách hàng và các số liệu thực tế do hãng bảo hiểm cung cấp, nhóm tiến hành thực hiện đề tài dự đoán xem hồ sơ đó có bị gian lận hay không\n",
    "    - Dữ liệu bao gồm 41 cột và 1000 dòng. Các thông tin của dataset bao gồm:\n",
    "    months_as_customer: Số tháng mà người gửi đơn đã làm khách hàng với công ty bảo hiểm.\n",
    "    age: Tuổi của người được bảo hiểm.\n",
    "    policy_number: Một số duy nhất xác định chính sách bảo hiểm.\n",
    "    policy_bind_date: Ngày bắt đầu hợp đồng bảo hiểm.\n",
    "    policy_state: Bang nơi chính sách bảo hiểm được phát hành.\n",
    "    policy_csl: Giới hạn Kết hợp Đơn (CSL) chỉ ra số tiền tối đa mà chính sách sẽ trả mỗi sự cố.\n",
    "    policy_deductible: Số tiền người giữ chính sách phải trả trước khi công ty bảo hiểm chi trả một đơn đăng ký.\n",
    "    policy_annual_premium: Số tiền phí hàng năm cho chính sách bảo hiểm.\n",
    "    umrrella_limit: Số tiền bảo hiểm trách nhiệm bổ sung ngoài giới hạn của các chính sách cá nhân.\n",
    "    insured_zip: Mã ZIP của người được bảo hiểm.\n",
    "    insured_sex: Giới tính của người được bảo hiểm.\n",
    "    insured_education_level: Trình độ giáo dục của người được bảo hiểm.\n",
    "    insured_occupation: Nghề nghiệp của người được bảo hiểm.\n",
    "    insured_hobbies: Sở thích của người được bảo hiểm.\n",
    "    insured_relationship: Mối quan hệ của người được bảo hiểm với người giữ chính sách.\n",
    "    capital-gains: Lợi nhuận vốn được báo cáo của người được bảo hiểm.\n",
    "    capital-loss: Thiệt hại vốn được báo cáo của người được bảo hiểm.\n",
    "    incident_date: Ngày của sự cố mà đơn được đề xuất.\n",
    "    incident_type: Loại sự cố (ví dụ: va chạm, trộm cắp).\n",
    "    collision_type: Loại va chạm nếu có.\n",
    "    incident_severity: Mức độ nghiêm trọng của sự cố.\n",
    "    authorities_contacted: Cơ quan nào đã liên hệ về sự cố.\n",
    "    incident_state: Bang nơi sự cố xảy ra.\n",
    "    incident_city: Thành phố nơi sự cố xảy ra.\n",
    "    incident_location: Địa điểm cụ thể của sự cố.\n",
    "    incident_hour_of_the_day: Giờ trong ngày khi sự cố xảy ra.\n",
    "    number_of_vehicles_involved: Số lượng xe tham gia vào sự cố.\n",
    "    property_damage: Chỉ ra xem có thiệt hại tài sản nào không.\n",
    "    bodily_injuries: Số vết thương tật do sự cố.\n",
    "    witnesses: Số lượng nhân chứng cho sự cố.\n",
    "    police_report_available: Chỉ ra liệu có bản báo cáo của cảnh sát không.\n",
    "    total_claim_amount: Tổng số tiền đăng ký cho sự cố.\n",
    "    injury_claim: Số tiền đăng ký cho thương tích cá nhân.\n",
    "    property_claim: Số tiền đăng ký cho thiệt hại tài sản.\n",
    "    vehicle_claim: Số tiền đăng ký cho thiệt hại xe hơi.\n",
    "    auto_make: Hãng sản xuất của xe được bảo hiểm.\n",
    "    auto_model: Mô hình của xe được bảo hiểm.\n",
    "    auto_year: Năm sản xuất của xe được bảo hiểm.\n",
    "    fraud_reported: Chỉ ra liệu đơn đăng ký có được báo cáo là gian lận không.\n",
    "    _c39: Cột này dường như không đầy đủ hoặc là một giữ chỗ mà không có mô tả rõ ràng."
   ]
  },
  {
   "cell_type": "markdown",
   "id": "7c5512f5",
   "metadata": {},
   "source": [
    "# 1. Import thư viện"
   ]
  },
  {
   "cell_type": "code",
   "execution_count": 1,
   "id": "54f8344d",
   "metadata": {},
   "outputs": [
    {
     "data": {
      "text/html": [
       "        <script type=\"text/javascript\">\n",
       "        window.PlotlyConfig = {MathJaxConfig: 'local'};\n",
       "        if (window.MathJax && window.MathJax.Hub && window.MathJax.Hub.Config) {window.MathJax.Hub.Config({SVG: {font: \"STIX-Web\"}});}\n",
       "        if (typeof require !== 'undefined') {\n",
       "        require.undef(\"plotly\");\n",
       "        requirejs.config({\n",
       "            paths: {\n",
       "                'plotly': ['https://cdn.plot.ly/plotly-2.27.0.min']\n",
       "            }\n",
       "        });\n",
       "        require(['plotly'], function(Plotly) {\n",
       "            window._Plotly = Plotly;\n",
       "        });\n",
       "        }\n",
       "        </script>\n",
       "        "
      ]
     },
     "metadata": {},
     "output_type": "display_data"
    }
   ],
   "source": [
    "import os, sys\n",
    "import pandas as pd\n",
    "import numpy as np\n",
    "import random as rd\n",
    "import matplotlib.pyplot as plt\n",
    "%matplotlib inline\n",
    "import seaborn as sns\n",
    "sns.set_style('darkgrid')\n",
    "import warnings\n",
    "warnings.filterwarnings('ignore')\n",
    "\n",
    "from plotly import __version__\n",
    "from plotly.offline import download_plotlyjs, init_notebook_mode, plot, iplot\n",
    "import cufflinks as cf\n",
    "cf.go_offline()\n",
    "from pandas_profiling import ProfileReport\n",
    "\n",
    "from sklearn.model_selection import train_test_split\n",
    "from sklearn.utils.class_weight import compute_class_weight\n",
    "from sklearn.preprocessing import LabelEncoder,MinMaxScaler,OneHotEncoder,StandardScaler\n",
    "from tensorflow.keras.models import Sequential\n",
    "from tensorflow.keras.layers import Dense\n",
    "from tensorflow.keras.layers import Dropout\n",
    "from tensorflow.keras.callbacks import ReduceLROnPlateau, EarlyStopping, ModelCheckpoint, LearningRateScheduler\n",
    "from sklearn.metrics import confusion_matrix, classification_report\n",
    "from sklearn.feature_selection import RFE\n",
    "\n",
    "from numpy import set_printoptions\n",
    "from sklearn.tree import DecisionTreeClassifier\n",
    "from sklearn.model_selection import cross_val_score\n",
    "from sklearn.model_selection import KFold\n",
    "from sklearn.naive_bayes import GaussianNB\n",
    "from sklearn.linear_model import LogisticRegression\n",
    "from sklearn.neighbors import KNeighborsClassifier\n",
    "from sklearn.discriminant_analysis import LinearDiscriminantAnalysis\n",
    "from sklearn.svm import SVC\n",
    "from sklearn.feature_selection import SelectFromModel\n",
    "from sklearn.model_selection import train_test_split, cross_val_score, GridSearchCV, KFold\n",
    "\n",
    "from sklearn.feature_selection import SelectKBest, f_classif\n",
    "from sklearn.ensemble import RandomForestClassifier\n",
    "from sklearn.neural_network import MLPClassifier\n",
    "from sklearn.ensemble import GradientBoostingClassifier\n",
    "from sklearn.naive_bayes import MultinomialNB\n",
    "\n"
   ]
  },
  {
   "cell_type": "code",
   "execution_count": 2,
   "id": "bdea320d",
   "metadata": {},
   "outputs": [
    {
     "data": {
      "text/html": [
       "        <script type=\"text/javascript\">\n",
       "        window.PlotlyConfig = {MathJaxConfig: 'local'};\n",
       "        if (window.MathJax && window.MathJax.Hub && window.MathJax.Hub.Config) {window.MathJax.Hub.Config({SVG: {font: \"STIX-Web\"}});}\n",
       "        if (typeof require !== 'undefined') {\n",
       "        require.undef(\"plotly\");\n",
       "        requirejs.config({\n",
       "            paths: {\n",
       "                'plotly': ['https://cdn.plot.ly/plotly-2.27.0.min']\n",
       "            }\n",
       "        });\n",
       "        require(['plotly'], function(Plotly) {\n",
       "            window._Plotly = Plotly;\n",
       "        });\n",
       "        }\n",
       "        </script>\n",
       "        "
      ]
     },
     "metadata": {},
     "output_type": "display_data"
    },
    {
     "name": "stdout",
     "output_type": "stream",
     "text": [
      "5.18.0\n"
     ]
    }
   ],
   "source": [
    "init_notebook_mode(connected=True)\n",
    "print(__version__) # requires version >= 1.9.0"
   ]
  },
  {
   "cell_type": "code",
   "execution_count": 3,
   "id": "1d89943e",
   "metadata": {},
   "outputs": [],
   "source": [
    "exps_dir = \"../../exps\"\n",
    "if os.path.exists(exps_dir) == False: # tạo thư mục (nếu chưa có)\n",
    "  os.makedirs(exps_dir, exist_ok=True)\n",
    "\n",
    "save_dir = f\"{exps_dir}/data\"\n",
    "os.makedirs(save_dir, exist_ok=True)\n"
   ]
  },
  {
   "cell_type": "code",
   "execution_count": 5,
   "id": "0327b34b",
   "metadata": {},
   "outputs": [
    {
     "data": {
      "text/html": [
       "<div>\n",
       "<style scoped>\n",
       "    .dataframe tbody tr th:only-of-type {\n",
       "        vertical-align: middle;\n",
       "    }\n",
       "\n",
       "    .dataframe tbody tr th {\n",
       "        vertical-align: top;\n",
       "    }\n",
       "\n",
       "    .dataframe thead th {\n",
       "        text-align: right;\n",
       "    }\n",
       "</style>\n",
       "<table border=\"1\" class=\"dataframe\">\n",
       "  <thead>\n",
       "    <tr style=\"text-align: right;\">\n",
       "      <th></th>\n",
       "      <th>months_as_customer</th>\n",
       "      <th>age</th>\n",
       "      <th>policy_number</th>\n",
       "      <th>policy_bind_date</th>\n",
       "      <th>policy_state</th>\n",
       "      <th>policy_csl</th>\n",
       "      <th>policy_deductable</th>\n",
       "      <th>policy_annual_premium</th>\n",
       "      <th>umbrella_limit</th>\n",
       "      <th>insured_zip</th>\n",
       "      <th>...</th>\n",
       "      <th>police_report_available</th>\n",
       "      <th>total_claim_amount</th>\n",
       "      <th>injury_claim</th>\n",
       "      <th>property_claim</th>\n",
       "      <th>vehicle_claim</th>\n",
       "      <th>auto_make</th>\n",
       "      <th>auto_model</th>\n",
       "      <th>auto_year</th>\n",
       "      <th>fraud_reported</th>\n",
       "      <th>_c39</th>\n",
       "    </tr>\n",
       "  </thead>\n",
       "  <tbody>\n",
       "    <tr>\n",
       "      <th>0</th>\n",
       "      <td>328</td>\n",
       "      <td>48</td>\n",
       "      <td>521585</td>\n",
       "      <td>2014-10-17</td>\n",
       "      <td>OH</td>\n",
       "      <td>250/500</td>\n",
       "      <td>1000</td>\n",
       "      <td>1406.91</td>\n",
       "      <td>0</td>\n",
       "      <td>466132</td>\n",
       "      <td>...</td>\n",
       "      <td>YES</td>\n",
       "      <td>71610</td>\n",
       "      <td>6510</td>\n",
       "      <td>13020</td>\n",
       "      <td>52080</td>\n",
       "      <td>Saab</td>\n",
       "      <td>92x</td>\n",
       "      <td>2004</td>\n",
       "      <td>Y</td>\n",
       "      <td>NaN</td>\n",
       "    </tr>\n",
       "    <tr>\n",
       "      <th>1</th>\n",
       "      <td>228</td>\n",
       "      <td>42</td>\n",
       "      <td>342868</td>\n",
       "      <td>2006-06-27</td>\n",
       "      <td>IN</td>\n",
       "      <td>250/500</td>\n",
       "      <td>2000</td>\n",
       "      <td>1197.22</td>\n",
       "      <td>5000000</td>\n",
       "      <td>468176</td>\n",
       "      <td>...</td>\n",
       "      <td>?</td>\n",
       "      <td>5070</td>\n",
       "      <td>780</td>\n",
       "      <td>780</td>\n",
       "      <td>3510</td>\n",
       "      <td>Mercedes</td>\n",
       "      <td>E400</td>\n",
       "      <td>2007</td>\n",
       "      <td>Y</td>\n",
       "      <td>NaN</td>\n",
       "    </tr>\n",
       "    <tr>\n",
       "      <th>2</th>\n",
       "      <td>134</td>\n",
       "      <td>29</td>\n",
       "      <td>687698</td>\n",
       "      <td>2000-09-06</td>\n",
       "      <td>OH</td>\n",
       "      <td>100/300</td>\n",
       "      <td>2000</td>\n",
       "      <td>1413.14</td>\n",
       "      <td>5000000</td>\n",
       "      <td>430632</td>\n",
       "      <td>...</td>\n",
       "      <td>NO</td>\n",
       "      <td>34650</td>\n",
       "      <td>7700</td>\n",
       "      <td>3850</td>\n",
       "      <td>23100</td>\n",
       "      <td>Dodge</td>\n",
       "      <td>RAM</td>\n",
       "      <td>2007</td>\n",
       "      <td>N</td>\n",
       "      <td>NaN</td>\n",
       "    </tr>\n",
       "    <tr>\n",
       "      <th>3</th>\n",
       "      <td>256</td>\n",
       "      <td>41</td>\n",
       "      <td>227811</td>\n",
       "      <td>1990-05-25</td>\n",
       "      <td>IL</td>\n",
       "      <td>250/500</td>\n",
       "      <td>2000</td>\n",
       "      <td>1415.74</td>\n",
       "      <td>6000000</td>\n",
       "      <td>608117</td>\n",
       "      <td>...</td>\n",
       "      <td>NO</td>\n",
       "      <td>63400</td>\n",
       "      <td>6340</td>\n",
       "      <td>6340</td>\n",
       "      <td>50720</td>\n",
       "      <td>Chevrolet</td>\n",
       "      <td>Tahoe</td>\n",
       "      <td>2014</td>\n",
       "      <td>Y</td>\n",
       "      <td>NaN</td>\n",
       "    </tr>\n",
       "    <tr>\n",
       "      <th>4</th>\n",
       "      <td>228</td>\n",
       "      <td>44</td>\n",
       "      <td>367455</td>\n",
       "      <td>2014-06-06</td>\n",
       "      <td>IL</td>\n",
       "      <td>500/1000</td>\n",
       "      <td>1000</td>\n",
       "      <td>1583.91</td>\n",
       "      <td>6000000</td>\n",
       "      <td>610706</td>\n",
       "      <td>...</td>\n",
       "      <td>NO</td>\n",
       "      <td>6500</td>\n",
       "      <td>1300</td>\n",
       "      <td>650</td>\n",
       "      <td>4550</td>\n",
       "      <td>Accura</td>\n",
       "      <td>RSX</td>\n",
       "      <td>2009</td>\n",
       "      <td>N</td>\n",
       "      <td>NaN</td>\n",
       "    </tr>\n",
       "    <tr>\n",
       "      <th>...</th>\n",
       "      <td>...</td>\n",
       "      <td>...</td>\n",
       "      <td>...</td>\n",
       "      <td>...</td>\n",
       "      <td>...</td>\n",
       "      <td>...</td>\n",
       "      <td>...</td>\n",
       "      <td>...</td>\n",
       "      <td>...</td>\n",
       "      <td>...</td>\n",
       "      <td>...</td>\n",
       "      <td>...</td>\n",
       "      <td>...</td>\n",
       "      <td>...</td>\n",
       "      <td>...</td>\n",
       "      <td>...</td>\n",
       "      <td>...</td>\n",
       "      <td>...</td>\n",
       "      <td>...</td>\n",
       "      <td>...</td>\n",
       "      <td>...</td>\n",
       "    </tr>\n",
       "    <tr>\n",
       "      <th>995</th>\n",
       "      <td>3</td>\n",
       "      <td>38</td>\n",
       "      <td>941851</td>\n",
       "      <td>1991-07-16</td>\n",
       "      <td>OH</td>\n",
       "      <td>500/1000</td>\n",
       "      <td>1000</td>\n",
       "      <td>1310.80</td>\n",
       "      <td>0</td>\n",
       "      <td>431289</td>\n",
       "      <td>...</td>\n",
       "      <td>?</td>\n",
       "      <td>87200</td>\n",
       "      <td>17440</td>\n",
       "      <td>8720</td>\n",
       "      <td>61040</td>\n",
       "      <td>Honda</td>\n",
       "      <td>Accord</td>\n",
       "      <td>2006</td>\n",
       "      <td>N</td>\n",
       "      <td>NaN</td>\n",
       "    </tr>\n",
       "    <tr>\n",
       "      <th>996</th>\n",
       "      <td>285</td>\n",
       "      <td>41</td>\n",
       "      <td>186934</td>\n",
       "      <td>2014-01-05</td>\n",
       "      <td>IL</td>\n",
       "      <td>100/300</td>\n",
       "      <td>1000</td>\n",
       "      <td>1436.79</td>\n",
       "      <td>0</td>\n",
       "      <td>608177</td>\n",
       "      <td>...</td>\n",
       "      <td>?</td>\n",
       "      <td>108480</td>\n",
       "      <td>18080</td>\n",
       "      <td>18080</td>\n",
       "      <td>72320</td>\n",
       "      <td>Volkswagen</td>\n",
       "      <td>Passat</td>\n",
       "      <td>2015</td>\n",
       "      <td>N</td>\n",
       "      <td>NaN</td>\n",
       "    </tr>\n",
       "    <tr>\n",
       "      <th>997</th>\n",
       "      <td>130</td>\n",
       "      <td>34</td>\n",
       "      <td>918516</td>\n",
       "      <td>2003-02-17</td>\n",
       "      <td>OH</td>\n",
       "      <td>250/500</td>\n",
       "      <td>500</td>\n",
       "      <td>1383.49</td>\n",
       "      <td>3000000</td>\n",
       "      <td>442797</td>\n",
       "      <td>...</td>\n",
       "      <td>YES</td>\n",
       "      <td>67500</td>\n",
       "      <td>7500</td>\n",
       "      <td>7500</td>\n",
       "      <td>52500</td>\n",
       "      <td>Suburu</td>\n",
       "      <td>Impreza</td>\n",
       "      <td>1996</td>\n",
       "      <td>N</td>\n",
       "      <td>NaN</td>\n",
       "    </tr>\n",
       "    <tr>\n",
       "      <th>998</th>\n",
       "      <td>458</td>\n",
       "      <td>62</td>\n",
       "      <td>533940</td>\n",
       "      <td>2011-11-18</td>\n",
       "      <td>IL</td>\n",
       "      <td>500/1000</td>\n",
       "      <td>2000</td>\n",
       "      <td>1356.92</td>\n",
       "      <td>5000000</td>\n",
       "      <td>441714</td>\n",
       "      <td>...</td>\n",
       "      <td>YES</td>\n",
       "      <td>46980</td>\n",
       "      <td>5220</td>\n",
       "      <td>5220</td>\n",
       "      <td>36540</td>\n",
       "      <td>Audi</td>\n",
       "      <td>A5</td>\n",
       "      <td>1998</td>\n",
       "      <td>N</td>\n",
       "      <td>NaN</td>\n",
       "    </tr>\n",
       "    <tr>\n",
       "      <th>999</th>\n",
       "      <td>456</td>\n",
       "      <td>60</td>\n",
       "      <td>556080</td>\n",
       "      <td>1996-11-11</td>\n",
       "      <td>OH</td>\n",
       "      <td>250/500</td>\n",
       "      <td>1000</td>\n",
       "      <td>766.19</td>\n",
       "      <td>0</td>\n",
       "      <td>612260</td>\n",
       "      <td>...</td>\n",
       "      <td>?</td>\n",
       "      <td>5060</td>\n",
       "      <td>460</td>\n",
       "      <td>920</td>\n",
       "      <td>3680</td>\n",
       "      <td>Mercedes</td>\n",
       "      <td>E400</td>\n",
       "      <td>2007</td>\n",
       "      <td>N</td>\n",
       "      <td>NaN</td>\n",
       "    </tr>\n",
       "  </tbody>\n",
       "</table>\n",
       "<p>1000 rows × 40 columns</p>\n",
       "</div>"
      ],
      "text/plain": [
       "     months_as_customer  age  policy_number policy_bind_date policy_state  \\\n",
       "0                   328   48         521585       2014-10-17           OH   \n",
       "1                   228   42         342868       2006-06-27           IN   \n",
       "2                   134   29         687698       2000-09-06           OH   \n",
       "3                   256   41         227811       1990-05-25           IL   \n",
       "4                   228   44         367455       2014-06-06           IL   \n",
       "..                  ...  ...            ...              ...          ...   \n",
       "995                   3   38         941851       1991-07-16           OH   \n",
       "996                 285   41         186934       2014-01-05           IL   \n",
       "997                 130   34         918516       2003-02-17           OH   \n",
       "998                 458   62         533940       2011-11-18           IL   \n",
       "999                 456   60         556080       1996-11-11           OH   \n",
       "\n",
       "    policy_csl  policy_deductable  policy_annual_premium  umbrella_limit  \\\n",
       "0      250/500               1000                1406.91               0   \n",
       "1      250/500               2000                1197.22         5000000   \n",
       "2      100/300               2000                1413.14         5000000   \n",
       "3      250/500               2000                1415.74         6000000   \n",
       "4     500/1000               1000                1583.91         6000000   \n",
       "..         ...                ...                    ...             ...   \n",
       "995   500/1000               1000                1310.80               0   \n",
       "996    100/300               1000                1436.79               0   \n",
       "997    250/500                500                1383.49         3000000   \n",
       "998   500/1000               2000                1356.92         5000000   \n",
       "999    250/500               1000                 766.19               0   \n",
       "\n",
       "     insured_zip  ... police_report_available total_claim_amount injury_claim  \\\n",
       "0         466132  ...                     YES              71610         6510   \n",
       "1         468176  ...                       ?               5070          780   \n",
       "2         430632  ...                      NO              34650         7700   \n",
       "3         608117  ...                      NO              63400         6340   \n",
       "4         610706  ...                      NO               6500         1300   \n",
       "..           ...  ...                     ...                ...          ...   \n",
       "995       431289  ...                       ?              87200        17440   \n",
       "996       608177  ...                       ?             108480        18080   \n",
       "997       442797  ...                     YES              67500         7500   \n",
       "998       441714  ...                     YES              46980         5220   \n",
       "999       612260  ...                       ?               5060          460   \n",
       "\n",
       "    property_claim vehicle_claim   auto_make  auto_model auto_year  \\\n",
       "0            13020         52080        Saab         92x      2004   \n",
       "1              780          3510    Mercedes        E400      2007   \n",
       "2             3850         23100       Dodge         RAM      2007   \n",
       "3             6340         50720   Chevrolet       Tahoe      2014   \n",
       "4              650          4550      Accura         RSX      2009   \n",
       "..             ...           ...         ...         ...       ...   \n",
       "995           8720         61040       Honda      Accord      2006   \n",
       "996          18080         72320  Volkswagen      Passat      2015   \n",
       "997           7500         52500      Suburu     Impreza      1996   \n",
       "998           5220         36540        Audi          A5      1998   \n",
       "999            920          3680    Mercedes        E400      2007   \n",
       "\n",
       "    fraud_reported _c39  \n",
       "0                Y  NaN  \n",
       "1                Y  NaN  \n",
       "2                N  NaN  \n",
       "3                Y  NaN  \n",
       "4                N  NaN  \n",
       "..             ...  ...  \n",
       "995              N  NaN  \n",
       "996              N  NaN  \n",
       "997              N  NaN  \n",
       "998              N  NaN  \n",
       "999              N  NaN  \n",
       "\n",
       "[1000 rows x 40 columns]"
      ]
     },
     "execution_count": 5,
     "metadata": {},
     "output_type": "execute_result"
    }
   ],
   "source": [
    "data=pd.read_csv('../../data/insurance_claims.csv')\n",
    "data"
   ]
  },
  {
   "cell_type": "code",
   "execution_count": 6,
   "id": "11250bd3",
   "metadata": {},
   "outputs": [
    {
     "data": {
      "text/html": [
       "<div>\n",
       "<style scoped>\n",
       "    .dataframe tbody tr th:only-of-type {\n",
       "        vertical-align: middle;\n",
       "    }\n",
       "\n",
       "    .dataframe tbody tr th {\n",
       "        vertical-align: top;\n",
       "    }\n",
       "\n",
       "    .dataframe thead th {\n",
       "        text-align: right;\n",
       "    }\n",
       "</style>\n",
       "<table border=\"1\" class=\"dataframe\">\n",
       "  <thead>\n",
       "    <tr style=\"text-align: right;\">\n",
       "      <th></th>\n",
       "      <th>months_as_customer</th>\n",
       "      <th>age</th>\n",
       "      <th>policy_number</th>\n",
       "      <th>policy_bind_date</th>\n",
       "      <th>policy_state</th>\n",
       "      <th>policy_csl</th>\n",
       "      <th>policy_deductable</th>\n",
       "      <th>policy_annual_premium</th>\n",
       "      <th>umbrella_limit</th>\n",
       "      <th>insured_zip</th>\n",
       "      <th>...</th>\n",
       "      <th>police_report_available</th>\n",
       "      <th>total_claim_amount</th>\n",
       "      <th>injury_claim</th>\n",
       "      <th>property_claim</th>\n",
       "      <th>vehicle_claim</th>\n",
       "      <th>auto_make</th>\n",
       "      <th>auto_model</th>\n",
       "      <th>auto_year</th>\n",
       "      <th>fraud_reported</th>\n",
       "      <th>_c39</th>\n",
       "    </tr>\n",
       "  </thead>\n",
       "  <tbody>\n",
       "    <tr>\n",
       "      <th>0</th>\n",
       "      <td>328</td>\n",
       "      <td>48</td>\n",
       "      <td>521585</td>\n",
       "      <td>2014-10-17</td>\n",
       "      <td>OH</td>\n",
       "      <td>250/500</td>\n",
       "      <td>1000</td>\n",
       "      <td>1406.91</td>\n",
       "      <td>0</td>\n",
       "      <td>466132</td>\n",
       "      <td>...</td>\n",
       "      <td>YES</td>\n",
       "      <td>71610</td>\n",
       "      <td>6510</td>\n",
       "      <td>13020</td>\n",
       "      <td>52080</td>\n",
       "      <td>Saab</td>\n",
       "      <td>92x</td>\n",
       "      <td>2004</td>\n",
       "      <td>Y</td>\n",
       "      <td>NaN</td>\n",
       "    </tr>\n",
       "    <tr>\n",
       "      <th>1</th>\n",
       "      <td>228</td>\n",
       "      <td>42</td>\n",
       "      <td>342868</td>\n",
       "      <td>2006-06-27</td>\n",
       "      <td>IN</td>\n",
       "      <td>250/500</td>\n",
       "      <td>2000</td>\n",
       "      <td>1197.22</td>\n",
       "      <td>5000000</td>\n",
       "      <td>468176</td>\n",
       "      <td>...</td>\n",
       "      <td>?</td>\n",
       "      <td>5070</td>\n",
       "      <td>780</td>\n",
       "      <td>780</td>\n",
       "      <td>3510</td>\n",
       "      <td>Mercedes</td>\n",
       "      <td>E400</td>\n",
       "      <td>2007</td>\n",
       "      <td>Y</td>\n",
       "      <td>NaN</td>\n",
       "    </tr>\n",
       "    <tr>\n",
       "      <th>2</th>\n",
       "      <td>134</td>\n",
       "      <td>29</td>\n",
       "      <td>687698</td>\n",
       "      <td>2000-09-06</td>\n",
       "      <td>OH</td>\n",
       "      <td>100/300</td>\n",
       "      <td>2000</td>\n",
       "      <td>1413.14</td>\n",
       "      <td>5000000</td>\n",
       "      <td>430632</td>\n",
       "      <td>...</td>\n",
       "      <td>NO</td>\n",
       "      <td>34650</td>\n",
       "      <td>7700</td>\n",
       "      <td>3850</td>\n",
       "      <td>23100</td>\n",
       "      <td>Dodge</td>\n",
       "      <td>RAM</td>\n",
       "      <td>2007</td>\n",
       "      <td>N</td>\n",
       "      <td>NaN</td>\n",
       "    </tr>\n",
       "    <tr>\n",
       "      <th>3</th>\n",
       "      <td>256</td>\n",
       "      <td>41</td>\n",
       "      <td>227811</td>\n",
       "      <td>1990-05-25</td>\n",
       "      <td>IL</td>\n",
       "      <td>250/500</td>\n",
       "      <td>2000</td>\n",
       "      <td>1415.74</td>\n",
       "      <td>6000000</td>\n",
       "      <td>608117</td>\n",
       "      <td>...</td>\n",
       "      <td>NO</td>\n",
       "      <td>63400</td>\n",
       "      <td>6340</td>\n",
       "      <td>6340</td>\n",
       "      <td>50720</td>\n",
       "      <td>Chevrolet</td>\n",
       "      <td>Tahoe</td>\n",
       "      <td>2014</td>\n",
       "      <td>Y</td>\n",
       "      <td>NaN</td>\n",
       "    </tr>\n",
       "    <tr>\n",
       "      <th>4</th>\n",
       "      <td>228</td>\n",
       "      <td>44</td>\n",
       "      <td>367455</td>\n",
       "      <td>2014-06-06</td>\n",
       "      <td>IL</td>\n",
       "      <td>500/1000</td>\n",
       "      <td>1000</td>\n",
       "      <td>1583.91</td>\n",
       "      <td>6000000</td>\n",
       "      <td>610706</td>\n",
       "      <td>...</td>\n",
       "      <td>NO</td>\n",
       "      <td>6500</td>\n",
       "      <td>1300</td>\n",
       "      <td>650</td>\n",
       "      <td>4550</td>\n",
       "      <td>Accura</td>\n",
       "      <td>RSX</td>\n",
       "      <td>2009</td>\n",
       "      <td>N</td>\n",
       "      <td>NaN</td>\n",
       "    </tr>\n",
       "  </tbody>\n",
       "</table>\n",
       "<p>5 rows × 40 columns</p>\n",
       "</div>"
      ],
      "text/plain": [
       "   months_as_customer  age  policy_number policy_bind_date policy_state  \\\n",
       "0                 328   48         521585       2014-10-17           OH   \n",
       "1                 228   42         342868       2006-06-27           IN   \n",
       "2                 134   29         687698       2000-09-06           OH   \n",
       "3                 256   41         227811       1990-05-25           IL   \n",
       "4                 228   44         367455       2014-06-06           IL   \n",
       "\n",
       "  policy_csl  policy_deductable  policy_annual_premium  umbrella_limit  \\\n",
       "0    250/500               1000                1406.91               0   \n",
       "1    250/500               2000                1197.22         5000000   \n",
       "2    100/300               2000                1413.14         5000000   \n",
       "3    250/500               2000                1415.74         6000000   \n",
       "4   500/1000               1000                1583.91         6000000   \n",
       "\n",
       "   insured_zip  ... police_report_available total_claim_amount injury_claim  \\\n",
       "0       466132  ...                     YES              71610         6510   \n",
       "1       468176  ...                       ?               5070          780   \n",
       "2       430632  ...                      NO              34650         7700   \n",
       "3       608117  ...                      NO              63400         6340   \n",
       "4       610706  ...                      NO               6500         1300   \n",
       "\n",
       "  property_claim vehicle_claim  auto_make  auto_model auto_year  \\\n",
       "0          13020         52080       Saab         92x      2004   \n",
       "1            780          3510   Mercedes        E400      2007   \n",
       "2           3850         23100      Dodge         RAM      2007   \n",
       "3           6340         50720  Chevrolet       Tahoe      2014   \n",
       "4            650          4550     Accura         RSX      2009   \n",
       "\n",
       "  fraud_reported _c39  \n",
       "0              Y  NaN  \n",
       "1              Y  NaN  \n",
       "2              N  NaN  \n",
       "3              Y  NaN  \n",
       "4              N  NaN  \n",
       "\n",
       "[5 rows x 40 columns]"
      ]
     },
     "execution_count": 6,
     "metadata": {},
     "output_type": "execute_result"
    }
   ],
   "source": [
    "data.head(5)"
   ]
  },
  {
   "cell_type": "code",
   "execution_count": 7,
   "id": "dfe6b171",
   "metadata": {},
   "outputs": [
    {
     "data": {
      "text/html": [
       "<div>\n",
       "<style scoped>\n",
       "    .dataframe tbody tr th:only-of-type {\n",
       "        vertical-align: middle;\n",
       "    }\n",
       "\n",
       "    .dataframe tbody tr th {\n",
       "        vertical-align: top;\n",
       "    }\n",
       "\n",
       "    .dataframe thead th {\n",
       "        text-align: right;\n",
       "    }\n",
       "</style>\n",
       "<table border=\"1\" class=\"dataframe\">\n",
       "  <thead>\n",
       "    <tr style=\"text-align: right;\">\n",
       "      <th></th>\n",
       "      <th>months_as_customer</th>\n",
       "      <th>age</th>\n",
       "      <th>policy_number</th>\n",
       "      <th>policy_bind_date</th>\n",
       "      <th>policy_state</th>\n",
       "      <th>policy_csl</th>\n",
       "      <th>policy_deductable</th>\n",
       "      <th>policy_annual_premium</th>\n",
       "      <th>umbrella_limit</th>\n",
       "      <th>insured_zip</th>\n",
       "      <th>...</th>\n",
       "      <th>police_report_available</th>\n",
       "      <th>total_claim_amount</th>\n",
       "      <th>injury_claim</th>\n",
       "      <th>property_claim</th>\n",
       "      <th>vehicle_claim</th>\n",
       "      <th>auto_make</th>\n",
       "      <th>auto_model</th>\n",
       "      <th>auto_year</th>\n",
       "      <th>fraud_reported</th>\n",
       "      <th>_c39</th>\n",
       "    </tr>\n",
       "  </thead>\n",
       "  <tbody>\n",
       "    <tr>\n",
       "      <th>995</th>\n",
       "      <td>3</td>\n",
       "      <td>38</td>\n",
       "      <td>941851</td>\n",
       "      <td>1991-07-16</td>\n",
       "      <td>OH</td>\n",
       "      <td>500/1000</td>\n",
       "      <td>1000</td>\n",
       "      <td>1310.80</td>\n",
       "      <td>0</td>\n",
       "      <td>431289</td>\n",
       "      <td>...</td>\n",
       "      <td>?</td>\n",
       "      <td>87200</td>\n",
       "      <td>17440</td>\n",
       "      <td>8720</td>\n",
       "      <td>61040</td>\n",
       "      <td>Honda</td>\n",
       "      <td>Accord</td>\n",
       "      <td>2006</td>\n",
       "      <td>N</td>\n",
       "      <td>NaN</td>\n",
       "    </tr>\n",
       "    <tr>\n",
       "      <th>996</th>\n",
       "      <td>285</td>\n",
       "      <td>41</td>\n",
       "      <td>186934</td>\n",
       "      <td>2014-01-05</td>\n",
       "      <td>IL</td>\n",
       "      <td>100/300</td>\n",
       "      <td>1000</td>\n",
       "      <td>1436.79</td>\n",
       "      <td>0</td>\n",
       "      <td>608177</td>\n",
       "      <td>...</td>\n",
       "      <td>?</td>\n",
       "      <td>108480</td>\n",
       "      <td>18080</td>\n",
       "      <td>18080</td>\n",
       "      <td>72320</td>\n",
       "      <td>Volkswagen</td>\n",
       "      <td>Passat</td>\n",
       "      <td>2015</td>\n",
       "      <td>N</td>\n",
       "      <td>NaN</td>\n",
       "    </tr>\n",
       "    <tr>\n",
       "      <th>997</th>\n",
       "      <td>130</td>\n",
       "      <td>34</td>\n",
       "      <td>918516</td>\n",
       "      <td>2003-02-17</td>\n",
       "      <td>OH</td>\n",
       "      <td>250/500</td>\n",
       "      <td>500</td>\n",
       "      <td>1383.49</td>\n",
       "      <td>3000000</td>\n",
       "      <td>442797</td>\n",
       "      <td>...</td>\n",
       "      <td>YES</td>\n",
       "      <td>67500</td>\n",
       "      <td>7500</td>\n",
       "      <td>7500</td>\n",
       "      <td>52500</td>\n",
       "      <td>Suburu</td>\n",
       "      <td>Impreza</td>\n",
       "      <td>1996</td>\n",
       "      <td>N</td>\n",
       "      <td>NaN</td>\n",
       "    </tr>\n",
       "    <tr>\n",
       "      <th>998</th>\n",
       "      <td>458</td>\n",
       "      <td>62</td>\n",
       "      <td>533940</td>\n",
       "      <td>2011-11-18</td>\n",
       "      <td>IL</td>\n",
       "      <td>500/1000</td>\n",
       "      <td>2000</td>\n",
       "      <td>1356.92</td>\n",
       "      <td>5000000</td>\n",
       "      <td>441714</td>\n",
       "      <td>...</td>\n",
       "      <td>YES</td>\n",
       "      <td>46980</td>\n",
       "      <td>5220</td>\n",
       "      <td>5220</td>\n",
       "      <td>36540</td>\n",
       "      <td>Audi</td>\n",
       "      <td>A5</td>\n",
       "      <td>1998</td>\n",
       "      <td>N</td>\n",
       "      <td>NaN</td>\n",
       "    </tr>\n",
       "    <tr>\n",
       "      <th>999</th>\n",
       "      <td>456</td>\n",
       "      <td>60</td>\n",
       "      <td>556080</td>\n",
       "      <td>1996-11-11</td>\n",
       "      <td>OH</td>\n",
       "      <td>250/500</td>\n",
       "      <td>1000</td>\n",
       "      <td>766.19</td>\n",
       "      <td>0</td>\n",
       "      <td>612260</td>\n",
       "      <td>...</td>\n",
       "      <td>?</td>\n",
       "      <td>5060</td>\n",
       "      <td>460</td>\n",
       "      <td>920</td>\n",
       "      <td>3680</td>\n",
       "      <td>Mercedes</td>\n",
       "      <td>E400</td>\n",
       "      <td>2007</td>\n",
       "      <td>N</td>\n",
       "      <td>NaN</td>\n",
       "    </tr>\n",
       "  </tbody>\n",
       "</table>\n",
       "<p>5 rows × 40 columns</p>\n",
       "</div>"
      ],
      "text/plain": [
       "     months_as_customer  age  policy_number policy_bind_date policy_state  \\\n",
       "995                   3   38         941851       1991-07-16           OH   \n",
       "996                 285   41         186934       2014-01-05           IL   \n",
       "997                 130   34         918516       2003-02-17           OH   \n",
       "998                 458   62         533940       2011-11-18           IL   \n",
       "999                 456   60         556080       1996-11-11           OH   \n",
       "\n",
       "    policy_csl  policy_deductable  policy_annual_premium  umbrella_limit  \\\n",
       "995   500/1000               1000                1310.80               0   \n",
       "996    100/300               1000                1436.79               0   \n",
       "997    250/500                500                1383.49         3000000   \n",
       "998   500/1000               2000                1356.92         5000000   \n",
       "999    250/500               1000                 766.19               0   \n",
       "\n",
       "     insured_zip  ... police_report_available total_claim_amount injury_claim  \\\n",
       "995       431289  ...                       ?              87200        17440   \n",
       "996       608177  ...                       ?             108480        18080   \n",
       "997       442797  ...                     YES              67500         7500   \n",
       "998       441714  ...                     YES              46980         5220   \n",
       "999       612260  ...                       ?               5060          460   \n",
       "\n",
       "    property_claim vehicle_claim   auto_make  auto_model auto_year  \\\n",
       "995           8720         61040       Honda      Accord      2006   \n",
       "996          18080         72320  Volkswagen      Passat      2015   \n",
       "997           7500         52500      Suburu     Impreza      1996   \n",
       "998           5220         36540        Audi          A5      1998   \n",
       "999            920          3680    Mercedes        E400      2007   \n",
       "\n",
       "    fraud_reported _c39  \n",
       "995              N  NaN  \n",
       "996              N  NaN  \n",
       "997              N  NaN  \n",
       "998              N  NaN  \n",
       "999              N  NaN  \n",
       "\n",
       "[5 rows x 40 columns]"
      ]
     },
     "execution_count": 7,
     "metadata": {},
     "output_type": "execute_result"
    }
   ],
   "source": [
    "data.tail(5)"
   ]
  },
  {
   "cell_type": "code",
   "execution_count": null,
   "id": "84e85222",
   "metadata": {},
   "outputs": [
    {
     "data": {
      "application/vnd.jupyter.widget-view+json": {
       "model_id": "3f626cc20d3f44979ad2407390b345b0",
       "version_major": 2,
       "version_minor": 0
      },
      "text/plain": [
       "Summarize dataset:   0%|          | 0/5 [00:00<?, ?it/s]"
      ]
     },
     "metadata": {},
     "output_type": "display_data"
    },
    {
     "data": {
      "application/vnd.jupyter.widget-view+json": {
       "model_id": "65f7012b3f4c4c6e95a763214bb665c8",
       "version_major": 2,
       "version_minor": 0
      },
      "text/plain": [
       "Generate report structure:   0%|          | 0/1 [00:00<?, ?it/s]"
      ]
     },
     "metadata": {},
     "output_type": "display_data"
    },
    {
     "data": {
      "application/vnd.jupyter.widget-view+json": {
       "model_id": "7c21c7283bfc461bba5bf20db98123f1",
       "version_major": 2,
       "version_minor": 0
      },
      "text/plain": [
       "Render HTML:   0%|          | 0/1 [00:00<?, ?it/s]"
      ]
     },
     "metadata": {},
     "output_type": "display_data"
    }
   ],
   "source": [
    "profile = ProfileReport(data, title=\"Pandas Profiling Report\")\n",
    "\n",
    "profile.to_file(\"EDA.html\")"
   ]
  },
  {
   "cell_type": "markdown",
   "id": "8d339764",
   "metadata": {},
   "source": [
    "### Giải thích:\n",
    "    - Nhóm sử dụng thư viện Pandas-Profiling, là công cụ EDA nhanh chóng, cung cấp những kết luận sơ bộ về bộ dữ liệu để quá trình khám phá dữ liệu cho học máy trở nên dễ dàng hơn. Nhóm xuất ra file EDA.html"
   ]
  },
  {
   "cell_type": "code",
   "execution_count": null,
   "id": "8d5f3279",
   "metadata": {},
   "outputs": [],
   "source": [
    "data.columns"
   ]
  },
  {
   "cell_type": "code",
   "execution_count": null,
   "id": "51c7c00b",
   "metadata": {},
   "outputs": [],
   "source": [
    "data.info()"
   ]
  },
  {
   "cell_type": "code",
   "execution_count": null,
   "id": "9a4c8889",
   "metadata": {},
   "outputs": [],
   "source": [
    "data.isnull().sum()"
   ]
  },
  {
   "cell_type": "markdown",
   "id": "aedadd26",
   "metadata": {},
   "source": [
    "### Kết luận:\n",
    "- Phần lớn dữ liệu không có cột trống. Riêng có cột cuối cùng c_39 tất cả các cột đều bị bỏ trống. Dựa vào tên không có ý nghĩa lẫn khoảng trắng bỏ quá nhiều, Ta kết luận cột c_39 không có tác dụng gì hết nên chúng ta tiến hành bỏ nó"
   ]
  },
  {
   "cell_type": "code",
   "execution_count": null,
   "id": "61a87aea",
   "metadata": {},
   "outputs": [],
   "source": [
    "data.drop('_c39',axis=1,inplace =True)"
   ]
  },
  {
   "cell_type": "code",
   "execution_count": null,
   "id": "0994938f",
   "metadata": {},
   "outputs": [],
   "source": [
    "data.dtypes"
   ]
  },
  {
   "cell_type": "code",
   "execution_count": null,
   "id": "b46d99f9",
   "metadata": {},
   "outputs": [],
   "source": [
    "object_columns = list(data.select_dtypes(['object']).columns)\n",
    "len(object_columns)\n",
    "numeric_columns=list(data.select_dtypes('number'))\n",
    "len(numeric_columns)\n",
    "print(f\"Bien phan loai: {len(object_columns)}, Bien lien tuc: {len(numeric_columns)}\")"
   ]
  },
  {
   "cell_type": "code",
   "execution_count": null,
   "id": "28f32155",
   "metadata": {},
   "outputs": [],
   "source": [
    "data.duplicated().sum()"
   ]
  },
  {
   "cell_type": "code",
   "execution_count": null,
   "id": "3b43a367",
   "metadata": {},
   "outputs": [],
   "source": [
    "object_columns"
   ]
  },
  {
   "cell_type": "code",
   "execution_count": null,
   "id": "1696e861",
   "metadata": {},
   "outputs": [],
   "source": [
    "data[object_columns].describe()"
   ]
  },
  {
   "cell_type": "code",
   "execution_count": null,
   "id": "f92c4473",
   "metadata": {},
   "outputs": [],
   "source": [
    "for column in object_columns: \n",
    "    print(\"\\033[1m\",\"*, Column: \", column,\"\\033[0m\")   \n",
    "    print('\\t',len(data[column].unique()), \"unique values\", \"\\t & \\t\", \n",
    "          data[column].notnull().sum(), \"non-null values\\t\", \n",
    "          round(100* data[column].notnull().sum()/len(data[column]),2), \n",
    "          \"% non-null\") \n",
    "    if len(data[column].unique())<=10:\n",
    "            print('\\t',data[column].unique())\n"
   ]
  },
  {
   "cell_type": "markdown",
   "id": "87a4a723",
   "metadata": {},
   "source": [
    "### Kết luận:\n",
    "- Dựa vào thống kê các biến mang tính duy nhất ở các cột phân loại, chúng ta thấy có 2 cột mang tính chất phân loại có tác dụng như mã số, mỗi dòng là một số khác nhau không quá quan trọng trong bộ dữ liệu, chúng ta sẽ tiến hành bỏ nó\n",
    "- Ngoài ra chúng ta còn thấy có kiểu dữ liệu ngày tháng năm (datetime64ns), không tương thích với các mô hình dự đoán, chúng ta sẽ tiến hành rút trích sang các cột ngày tháng năm và loại bỏ hai cột policy_bind_date và incident_date\n",
    "- Cuối cùng, một số cột có xuất hiện ký tự đặc biệt là dấu '?'. Có thể là do khi thu thập, những hồ sơ này bị khuyết thiếu nên nhân sự bảo hiểm đã ghi chú lại bằng dấu ? thay cho việc để trống !"
   ]
  },
  {
   "cell_type": "code",
   "execution_count": null,
   "id": "b0554f91",
   "metadata": {},
   "outputs": [],
   "source": [
    "nulldata_categorical=(data[object_columns]=='?').sum()\n",
    "nulldata_categorical"
   ]
  },
  {
   "cell_type": "markdown",
   "id": "08486b7f",
   "metadata": {},
   "source": [
    "### Giải thích:\n",
    "Các cột như collision_type (loại hình va chạm), property_damage (thiệt hại tài sản), police_report_available (báo cáo của cảnh sát) không thế nào mang giá trị đặc biệt dấu '?' được. Có thể trong quá trình thu thập dữ liệu xuất hiện lỗi, sơ sót, hoặc điều tra viên, bộ phận thu thập dữ liệu không xác định rõ.\n",
    "Các thuộc tính trên có thể là một đặc trưng quan trọng trong những mô hình dự đoán liên quan đến mức độ thiệt hại hoặc hồ sơ thật giả của công ty bảo hiểm, cần lưu ý để tránh đưa ra sai sót trong quá trình phân tích dữ liệu"
   ]
  },
  {
   "cell_type": "code",
   "execution_count": null,
   "id": "0ed83fb2",
   "metadata": {},
   "outputs": [],
   "source": [
    "for column in object_columns:\n",
    "    if len(data[column].unique())<=10:\n",
    "        print('-'*100)\n",
    "        print(\"*, Column: \", column)\n",
    "        print(data[column].value_counts())\n",
    "        print('-'*100)\n",
    "    "
   ]
  },
  {
   "cell_type": "code",
   "execution_count": null,
   "id": "55763f7e",
   "metadata": {},
   "outputs": [],
   "source": [
    "for column in object_columns:\n",
    "    if len(data[column].unique())<=40:\n",
    "        data[column].value_counts().iplot(kind='bar',title=column, \n",
    "                                        xTitle=column, \n",
    "                                        yTitle='Values')\n"
   ]
  },
  {
   "cell_type": "code",
   "execution_count": null,
   "id": "75895428",
   "metadata": {},
   "outputs": [],
   "source": [
    "numeric_columns"
   ]
  },
  {
   "cell_type": "code",
   "execution_count": null,
   "id": "9b95bd2f",
   "metadata": {},
   "outputs": [],
   "source": [
    "data[numeric_columns].describe()"
   ]
  },
  {
   "cell_type": "code",
   "execution_count": null,
   "id": "18ee84b9",
   "metadata": {},
   "outputs": [],
   "source": [
    "for column in numeric_columns: \n",
    "    print(\"*, Column: \", column)   \n",
    "    print(len(data[column].unique()), \"unique values\", \"\\t & \\t\", \n",
    "          data[column].notnull().sum(), \"non-null values\\t\", \n",
    "          round(100* data[column].notnull().sum()/len(data[column]),2), \n",
    "          \"% non-null\")\n",
    "    if len(data[column].unique())<=10:\n",
    "        print(data[column].unique())\n",
    "    "
   ]
  },
  {
   "cell_type": "markdown",
   "id": "343cb455",
   "metadata": {},
   "source": [
    "### Kết luận:\n",
    "- Dù là kiểu dữ liệu số, nhưng một số cột thuộc kiểu dữ liệu rời rạc chứ không phải kiểu dữ liệu liên tục ( ví dụ như là witnesses,...) mang vai trò như một phân lớp. Chúng ta sẽ chuyển kiểu dữ liệu các cột này sang kiểu dữ liệu mang tính phân loại để tăng hiệu suất dự án !\n",
    "- Các biến rời rạc nhưng chiếm khá nhiều giá trị như tuổi, để mô hình học máy học tốt hơn, nhóm cũng dự định chuyển sang thành cột phân loại với Young, Middle và Old."
   ]
  },
  {
   "cell_type": "code",
   "execution_count": null,
   "id": "079b8169",
   "metadata": {},
   "outputs": [],
   "source": [
    "change_tocategory=[i for i in numeric_columns if len(data[i].unique())<=46]\n",
    "change_tocategory.remove('umbrella_limit')\n",
    "change_tocategory"
   ]
  },
  {
   "cell_type": "code",
   "execution_count": null,
   "id": "488e19e0",
   "metadata": {},
   "outputs": [],
   "source": [
    "data[change_tocategory]=data[change_tocategory].astype('object')\n",
    "data.info()"
   ]
  },
  {
   "cell_type": "code",
   "execution_count": null,
   "id": "30a14a0c",
   "metadata": {},
   "outputs": [],
   "source": [
    "numeric_columns=list(data.select_dtypes('number'))\n",
    "numeric_columns"
   ]
  },
  {
   "cell_type": "code",
   "execution_count": null,
   "id": "bcba6781",
   "metadata": {},
   "outputs": [],
   "source": [
    "for c in numeric_columns:\n",
    "    data[c].iplot(kind='hist',title=c,xTitle=c)\n",
    "    plt.show()"
   ]
  },
  {
   "cell_type": "code",
   "execution_count": null,
   "id": "4e41da92",
   "metadata": {},
   "outputs": [],
   "source": [
    "nulldata_numeric=(data[numeric_columns]==0).sum()\n",
    "nulldata_numeric"
   ]
  },
  {
   "cell_type": "code",
   "execution_count": null,
   "id": "e976d3f8",
   "metadata": {},
   "outputs": [],
   "source": [
    "for c in numeric_columns:\n",
    "    print(c)\n",
    "    data.hist(c)\n",
    "    plt.show()"
   ]
  },
  {
   "cell_type": "code",
   "execution_count": null,
   "id": "c3e2d98c",
   "metadata": {},
   "outputs": [],
   "source": [
    "numeric_columns=data.select_dtypes(['number']).columns\n",
    "for c in numeric_columns:\n",
    "    plt.figure()\n",
    "    data.boxplot(c, rot=0, grid=True, fontsize=12);\n",
    "    plt.show()"
   ]
  },
  {
   "cell_type": "code",
   "execution_count": null,
   "id": "a5363200",
   "metadata": {},
   "outputs": [],
   "source": [
    "def check_outliers(name,outliers_list):\n",
    "    we=data[name].values\n",
    "    Q1=np.quantile(we,0.25)\n",
    "    Q3=np.quantile(we,0.75)\n",
    "    IQR=Q3-Q1\n",
    "    print(\"Q1: \",Q1,\"Q3: \",Q3,\"IQR:\",IQR)\n",
    "    outliers=np.unique(we[[(n<Q1-1.5*IQR)|(n>Q3+1.5*IQR) for n in we]])\n",
    "    indexes=[we.tolist().index(i) for i in outliers]\n",
    "    if len(indexes)>0:\n",
    "        outliers_list.append(name)\n",
    "    print(\"Indexes of outliers: \", indexes)\n",
    "    print(\"Number of outliers: \", len(indexes))\n",
    "    print(\"Outlier values\", we[indexes])\n",
    "    print(\"-----\")"
   ]
  },
  {
   "cell_type": "code",
   "execution_count": null,
   "id": "22927f70",
   "metadata": {},
   "outputs": [],
   "source": [
    "outliers_list=[]\n",
    "for col in numeric_columns:\n",
    "    check_outliers(col,outliers_list)\n",
    "np.savez(f'{exps_dir}/data/outliers.npz', outliers = outliers_list)\n",
    "\n",
    "print(outliers_list)"
   ]
  },
  {
   "cell_type": "markdown",
   "id": "c26ca926",
   "metadata": {},
   "source": [
    "### Kết luận:\n",
    "- Các cột không chứa quá nhiều giá trị ngoại lệ. Ở bước tiền xử lý dữ liệu, chúng ta có thể xóa ngoại lệ để sử dụng MinMaxScaler để tiến hành chuẩn hóa dữ liệu số ( vì nhạy cảm với giá trị ngoại lệ)"
   ]
  },
  {
   "cell_type": "code",
   "execution_count": null,
   "id": "54874d63",
   "metadata": {},
   "outputs": [],
   "source": [
    "corrle=data[numeric_columns].corr()\n",
    "corrle"
   ]
  },
  {
   "cell_type": "code",
   "execution_count": null,
   "id": "e1f26dd7",
   "metadata": {},
   "outputs": [],
   "source": [
    "sns.heatmap(corrle,vmin=-1,vmax=1, annot=False, fmt=\".2f\",cmap='coolwarm')\n",
    "plt.show()"
   ]
  },
  {
   "cell_type": "markdown",
   "id": "4af26052",
   "metadata": {},
   "source": [
    "### Kết luận:\n",
    "- Các biến liên tục phần lớn không có sự tương quan nào hết.\n",
    "- Ta nhận thấy các giá trị như total_claim_amount, vehicle_claim, injury_claim, property_claim có sự tương quan thuận mạnh mẽ.Bởi vì total_claim_amount là tổng ba giá trị còn lại\n",
    "- incident_hour_of_the_day có mối quan hệ thuận với các bốn cột trên, chúng ta lưu ý để tiến hành phân tích xử lý dữ liệu"
   ]
  },
  {
   "cell_type": "code",
   "execution_count": null,
   "id": "1d31c75b",
   "metadata": {},
   "outputs": [],
   "source": [
    "data"
   ]
  },
  {
   "cell_type": "markdown",
   "id": "e3e194c5",
   "metadata": {},
   "source": [
    "## Chỉnh sửa dữ liệu\n",
    "- Sau những phân tích trên, chúng ta sẽ tiến hành chỉnh sửa data theo kết luận trước đó"
   ]
  },
  {
   "cell_type": "code",
   "execution_count": null,
   "id": "22ac2304",
   "metadata": {},
   "outputs": [],
   "source": [
    "data['policy_bind_date']=pd.to_datetime(data['policy_bind_date'])\n",
    "data['day_policy_bind_date']=data['policy_bind_date'].dt.day\n",
    "data['month_policy_bind_date']=data['policy_bind_date'].dt.month\n",
    "data['year_policy_bind_date']=data['policy_bind_date'].dt.year\n",
    "data"
   ]
  },
  {
   "cell_type": "code",
   "execution_count": null,
   "id": "b72ad9d0",
   "metadata": {},
   "outputs": [],
   "source": [
    "data['incident_date']=pd.to_datetime(data['incident_date'])\n",
    "data['day_incident_date']=data['incident_date'].dt.day\n",
    "data['month_incident_date']=data['incident_date'].dt.month\n",
    "data['year_incident_date']=data['incident_date'].dt.year\n",
    "data"
   ]
  },
  {
   "cell_type": "code",
   "execution_count": null,
   "id": "67ab6a66",
   "metadata": {},
   "outputs": [],
   "source": [
    "data.drop(['policy_bind_date','incident_date'],axis=1,inplace=True)\n",
    "object_columns = list(data.select_dtypes(['object']).columns)"
   ]
  },
  {
   "cell_type": "code",
   "execution_count": null,
   "id": "884b15b9",
   "metadata": {},
   "outputs": [],
   "source": [
    "# data.drop(['policy_number','insured_zip'],axis=1,inplace=True)"
   ]
  },
  {
   "cell_type": "code",
   "execution_count": null,
   "id": "f0196520",
   "metadata": {
    "scrolled": true
   },
   "outputs": [],
   "source": [
    "bins=[19,30,50,64]\n",
    "labels=['Young','Middle','Old']\n",
    "data['age']=pd.cut(data.age,bins=bins,labels=labels,right=False)\n",
    "data"
   ]
  },
  {
   "cell_type": "code",
   "execution_count": null,
   "id": "75a0eed9",
   "metadata": {},
   "outputs": [],
   "source": [
    "bins=[0,9,17,23]\n",
    "labels=['Morning','Evening','Night']\n",
    "data['incident_hour_of_the_day']=pd.cut(data.incident_hour_of_the_day,bins=bins,labels=labels,right=True)\n",
    "data"
   ]
  },
  {
   "cell_type": "code",
   "execution_count": null,
   "id": "0df23fd2",
   "metadata": {},
   "outputs": [],
   "source": [
    "bins=[0,2,120,497]\n",
    "labels=['None','N','Y']\n",
    "data['months_as_customer']=pd.cut(data.months_as_customer,bins=bins,labels=labels,right=False)\n",
    "data"
   ]
  },
  {
   "cell_type": "code",
   "execution_count": null,
   "id": "3377a04e",
   "metadata": {},
   "outputs": [],
   "source": [
    "data.auto_year.unique()"
   ]
  },
  {
   "cell_type": "code",
   "execution_count": null,
   "id": "a8ac131c",
   "metadata": {},
   "outputs": [],
   "source": [
    "bins=[1990,2000,2010,max(data.auto_year)]\n",
    "labels=['1995-2000','2000-2010','2010++']\n",
    "data['auto_year']=pd.cut(data.auto_year,bins=bins,labels=labels,right=True)\n",
    "data"
   ]
  },
  {
   "cell_type": "code",
   "execution_count": null,
   "id": "631aa1ba",
   "metadata": {},
   "outputs": [],
   "source": [
    "data.fraud_reported.value_counts()"
   ]
  },
  {
   "cell_type": "code",
   "execution_count": null,
   "id": "1f7cf285",
   "metadata": {},
   "outputs": [],
   "source": [
    "sns.countplot(x='fraud_reported',data=data)\n",
    "plt.title(\"Biểu đồ thể hiện tương quan số hồ sơ bị báo cáo là gian lận\")\n",
    "plt.show()"
   ]
  },
  {
   "cell_type": "markdown",
   "id": "1e8efebf",
   "metadata": {},
   "source": [
    "### Kết luận:\n",
    "- Tỉ lệ số hồ sơ được cho là gian lận quá lớn, gấp 3 lần số bộ hồ sơ được chấp thuận. Đây có thể ảnh hưởng rất lớn tới mô hỉnh dự đoán khi biến mục tiêu xuất hiện tình trạng mất cân bằng (imbalanced variable)"
   ]
  },
  {
   "cell_type": "code",
   "execution_count": null,
   "id": "6af82faa",
   "metadata": {},
   "outputs": [],
   "source": [
    "sns.boxplot(data=data, x=\"policy_annual_premium\", y=\"fraud_reported\")\n",
    "plt.title('Biểu đồ boxplot thể hiện số tiền phí hàng năm theo độ thật giả yêu cầu đòi bồi thường')\n",
    "plt.show()"
   ]
  },
  {
   "cell_type": "markdown",
   "id": "4dcaaec3",
   "metadata": {},
   "source": [
    "### Kết luận:\n",
    "- Có sự tương quan giữa policy_annual_prenium, các hồ sơ bị xác định gian lận có nhiều giá trị ngoại lệ về khoản tiền p đóng lệch xa khỏi hai khoảng râu của đồ thị. Hơn hết 50% các hồ sơ được xác định gian lận nằm ở (11000,14300) và 50% bộ hồ sơ được chấp thuận thì nằm trong khoảng (10400,14000)\n",
    "- Sự tương quan không được hiển thị rõ rệt vì độ chênh lệch giữa hai loại hồ sơ là quá lớn\n",
    "- Như vậy, ta có thể cân nhắc policy_annual_prenium là biến thích hợp đưa vào dự đoán\n"
   ]
  },
  {
   "cell_type": "code",
   "execution_count": null,
   "id": "b80ffd11",
   "metadata": {},
   "outputs": [],
   "source": [
    "data.shape"
   ]
  },
  {
   "cell_type": "code",
   "execution_count": null,
   "id": "38002015",
   "metadata": {},
   "outputs": [],
   "source": [
    "data.age.value_counts()"
   ]
  },
  {
   "cell_type": "code",
   "execution_count": null,
   "id": "4870f731",
   "metadata": {},
   "outputs": [],
   "source": [
    "sns.countplot(x='age',hue='fraud_reported', data=data)\n",
    "plt.title(\"Biểu đồ thể hiện lứa tuổi người yêu cầu bồi thường bảo hiểm\")\n",
    "plt.show()"
   ]
  },
  {
   "cell_type": "code",
   "execution_count": null,
   "id": "61ed9490",
   "metadata": {},
   "outputs": [],
   "source": [
    "data.insured_education_level.value_counts()"
   ]
  },
  {
   "cell_type": "code",
   "execution_count": null,
   "id": "8e791431",
   "metadata": {},
   "outputs": [],
   "source": [
    "occupation_Y=data[data.fraud_reported=='Y'].groupby('insured_education_level')['fraud_reported'].count().sort_values(ascending=False)\n",
    "occupation_Y.head(5).plot.bar()\n",
    "plt.title(\"Top 5 ngành nghề của khách hàng thuộc bộ hồ sơ được chấp thuận\")\n",
    "plt.show()"
   ]
  },
  {
   "cell_type": "code",
   "execution_count": null,
   "id": "cb63d168",
   "metadata": {},
   "outputs": [],
   "source": [
    "occupation_N=data[data.fraud_reported=='N'].groupby('insured_education_level')['fraud_reported'].count().sort_values(ascending=False)\n",
    "occupation_N.head(5).plot.bar()\n",
    "plt.title(\"Top 5 ngành nghề của khách hàng thuộc bộ hồ sơ được cho là gian lận\")\n",
    "plt.show()"
   ]
  },
  {
   "cell_type": "markdown",
   "id": "95e6ed1a",
   "metadata": {},
   "source": [
    "### Kết luận:\n",
    "- Có thể thấy rõ có sự khác nhau về nghề nghiệp của khách hàng giữa bộ hồ sơ gian lận với được chấp thuận. \n",
    "- Chúng ta có thể cân nhắc đây có thể là một đặc trưng đưa vào mô hình dự đoán!"
   ]
  },
  {
   "cell_type": "code",
   "execution_count": null,
   "id": "b5c5ccb5",
   "metadata": {},
   "outputs": [],
   "source": [
    "available_request=data[data['fraud_reported']=='Y']"
   ]
  },
  {
   "cell_type": "code",
   "execution_count": null,
   "id": "a646fe10",
   "metadata": {},
   "outputs": [],
   "source": [
    "data.insured_sex.value_counts()"
   ]
  },
  {
   "cell_type": "code",
   "execution_count": null,
   "id": "1a047955",
   "metadata": {},
   "outputs": [],
   "source": [
    "sns.histplot(data=data, x='total_claim_amount', hue='insured_sex'); # histogram và phân loại\n",
    "plt.title(\"Biểu đồ thể hiện tương quan giới tính với tổng khoản chi bồ thường \")\n",
    "plt.show()"
   ]
  },
  {
   "cell_type": "code",
   "execution_count": null,
   "id": "b7cc3916",
   "metadata": {},
   "outputs": [],
   "source": [
    "g = sns.displot(data, x = 'total_claim_amount', col= 'insured_sex', kde = True) # chỉ vẽ kde: kind = 'kde'\n",
    "plt.suptitle('Phân phối tổng tiền bồi thường theo giới tính', y = 1.03)\n",
    "g.set_ylabels('Số hóa đơn')\n",
    "plt.show()"
   ]
  },
  {
   "cell_type": "code",
   "execution_count": null,
   "id": "1e7eafae",
   "metadata": {},
   "outputs": [],
   "source": [
    "data.fraud_reported.value_counts()"
   ]
  },
  {
   "cell_type": "code",
   "execution_count": null,
   "id": "dc67c37e",
   "metadata": {},
   "outputs": [],
   "source": [
    "sns.countplot(x='fraud_reported',hue='insured_sex', data=data);\n"
   ]
  },
  {
   "cell_type": "code",
   "execution_count": null,
   "id": "e139d190",
   "metadata": {},
   "outputs": [],
   "source": [
    "g = sns.displot(data, x = 'total_claim_amount', col= 'fraud_reported', kde = True) # chỉ vẽ kde: kind = 'kde'\n",
    "plt.suptitle('Phân phối tổng tiền bồi thường theo hồ sơ hợp đồng', y = 1.03)\n",
    "g.set_ylabels('Số đơn yêu cầu')\n",
    "plt.show()"
   ]
  },
  {
   "cell_type": "code",
   "execution_count": null,
   "id": "b2c8234a",
   "metadata": {},
   "outputs": [],
   "source": [
    "sns.histplot(data=data, x='total_claim_amount', hue='fraud_reported'); # histogram và phân loại"
   ]
  },
  {
   "cell_type": "code",
   "execution_count": null,
   "id": "800c1cb4",
   "metadata": {},
   "outputs": [],
   "source": [
    "g = sns.displot(data, x = 'total_claim_amount', col= 'insured_sex', row = 'fraud_reported', height=4,kde=True)\n",
    "plt.suptitle('Total_bill theo time và sex', y = 1.05)\n",
    "g.set_ylabels('Số hóa đơn')\n",
    "plt.show()"
   ]
  },
  {
   "cell_type": "markdown",
   "id": "2951fa0b",
   "metadata": {},
   "source": [
    "### Kết luận:\n",
    "- Có thể thấy rõ biến giới tính không ảnh hưởng đến độ gian lận của bộ dữ liệu\n",
    "- Tổng số tiền bồi thường cũng không ảnh hưởng đến độ gian lận vì hình dáng của đường phân phối của hai biểu đồ trên tương đối giống nhau, có sự khác biệt lớn về ngoại quan là do tỉ lệ hai bộ hồ sơ được coi là gian lận và chấp thuận chênh lệch nhau quá nhiều"
   ]
  },
  {
   "cell_type": "code",
   "execution_count": null,
   "id": "9f35409d",
   "metadata": {},
   "outputs": [],
   "source": [
    "sns.boxplot(data=data, x=\"incident_hour_of_the_day\", y=\"total_claim_amount\")\n",
    "plt.title('Biểu đồ boxplot total_bill theo ngày')\n",
    "plt.show()"
   ]
  },
  {
   "cell_type": "code",
   "execution_count": null,
   "id": "990adf5d",
   "metadata": {},
   "outputs": [],
   "source": [
    "sns.countplot(x='incident_hour_of_the_day',hue='fraud_reported',data=data)\n",
    "plt.title('Biểu đồ thể hiện khung giờ xảy ra tai nạn có ảnh hưởng đến đơn bồi thường không')\n",
    "plt.show()"
   ]
  },
  {
   "cell_type": "code",
   "execution_count": null,
   "id": "622bd802",
   "metadata": {},
   "outputs": [],
   "source": [
    "plt.figure(figsize=(8,5))\n",
    "# Vẽ biểu đồ ở hàng 0\n",
    "plt.subplot(1,2,1)\n",
    "data_Y=data[data['fraud_reported']=='Y']\n",
    "Y_contract=data_Y['incident_hour_of_the_day'].value_counts()\n",
    "Y_contract.plot(kind='pie')\n",
    "plt.ylabel('')  # Ẩn tiêu đề trục y cho subplot 1\n",
    "plt.title(\"Đối với hợp đồng được chấp thuận\")\n",
    "\n",
    "plt.subplot(1,2,2)\n",
    "data_N=data[data['fraud_reported']=='N']\n",
    "N_contract=data_N['incident_hour_of_the_day'].value_counts()\n",
    "N_contract.plot(kind='pie')\n",
    "plt.ylabel('')  # Ẩn tiêu đề trục y cho subplot 1\n",
    "plt.title(\"Đối với hợp đồng coi là gian lận\")\n",
    "\n",
    "\n",
    "\n",
    "# Tùy chỉnh tiêu đề\n",
    "plt.suptitle(\"Biểu đồ thể hiện sự ảnh hưởng của thời điểm xảy ra tai nạn với tỉ lệ được chấp thuận bồi thường\")\n",
    "\n",
    "plt.tight_layout()\n",
    "# Hiển thị figure\n",
    "plt.show()"
   ]
  },
  {
   "cell_type": "markdown",
   "id": "d34b3654",
   "metadata": {},
   "source": [
    "### Kết luận:\n",
    "- Ở khung giờ sáng từ 3h đến 9h sáng có độ biến động dữ liệu cao khoảng tiền bồi thường có thể dao động từ con số nhỏ đến tận 60000 (đơn vị tiền tệ). Có thể do sáng sớm đoạn đường vắng mọi người có xu hướng chạy ẩu hoặc kẹt xe dễ xảy ra va chạm nên bộ dữ liệu biến động nhiều như vậy\n",
    "- Như vậy, incident_hour_of_day có sự tương quan đến việc hợp đồng có bị coi là gian lận hay ko, nhóm có thể cân nhắc thêm vào đặc trưng\n"
   ]
  },
  {
   "cell_type": "code",
   "execution_count": null,
   "id": "d8294a0b",
   "metadata": {},
   "outputs": [],
   "source": [
    "check_claim=data[['injury_claim','property_claim','vehicle_claim']].sum()\n",
    "check_claim"
   ]
  },
  {
   "cell_type": "code",
   "execution_count": null,
   "id": "6322f0f3",
   "metadata": {},
   "outputs": [],
   "source": [
    "plt.figure(figsize = (10,8))\n",
    "plt.title('Phan phoi cac hoa don boi thuong ton that cac loai')\n",
    "plt.pie(check_claim, labels = check_claim.index, autopct = '%1.1f%%', startangle=0)\n",
    "plt.show()"
   ]
  },
  {
   "cell_type": "code",
   "execution_count": null,
   "id": "e01dbc75",
   "metadata": {},
   "outputs": [],
   "source": [
    "sns.histplot(data=data, x='umbrella_limit', hue='fraud_reported'); # histogram và phân loại"
   ]
  },
  {
   "cell_type": "code",
   "execution_count": null,
   "id": "5390c007",
   "metadata": {},
   "outputs": [],
   "source": [
    "sns.histplot(data=data, x='months_as_customer', hue='fraud_reported'); # histogram và phân loại"
   ]
  },
  {
   "cell_type": "code",
   "execution_count": null,
   "id": "d63967a8",
   "metadata": {},
   "outputs": [],
   "source": [
    "sns.histplot(data=data, x='policy_annual_premium', hue='fraud_reported'); # histogram và phân loại"
   ]
  },
  {
   "cell_type": "code",
   "execution_count": null,
   "id": "00636f52",
   "metadata": {},
   "outputs": [],
   "source": [
    "palette = sns.color_palette(\"muted\")\n",
    "plt.figure(figsize=(16, 8))\n",
    "\n",
    "my_order = data.groupby(by=[\"auto_make\"])[\"total_claim_amount\"].median().iloc[::-1].index\n",
    "\n",
    "sns.boxplot(x = 'auto_make', y = 'total_claim_amount' ,data = data, order = my_order,palette=palette).set(title = 'Box Plot of Auto Model vs Total Claim Amount')\n",
    "plt.xticks(rotation = 90);"
   ]
  },
  {
   "cell_type": "code",
   "execution_count": null,
   "id": "fcb0c090",
   "metadata": {},
   "outputs": [],
   "source": [
    "sns.countplot(x='auto_make',hue='fraud_reported', data=data)\n",
    "ax = plt.gca()\n",
    "\n",
    "# Xoay tiêu đề trục x\n",
    "ax.set_xticklabels(ax.get_xticklabels(), rotation=90, horizontalalignment='right')\n",
    "plt.show()"
   ]
  },
  {
   "cell_type": "code",
   "execution_count": null,
   "id": "2e9e2bf2",
   "metadata": {},
   "outputs": [],
   "source": [
    "sns.lineplot(x='auto_make', y='total_claim_amount', hue='fraud_reported', data=data)\n",
    "plt.title('Biểu đồ thể hiện tương quan giá tiền với hãng xe giữa hợp đồng được chấp thuận và bị coi là gian lận')\n",
    "plt.xticks(rotation = 90)\n",
    "plt.show()"
   ]
  },
  {
   "cell_type": "markdown",
   "id": "b4e82032",
   "metadata": {},
   "source": [
    "### Kết luận:\n",
    "- Auto_make có thể là một đặc trưng của bộ dữ liệu. Ở biểu đồ boxplot, chúng ta có thể thấy, từng loại xe sẽ có sự phân bố và biến động khác nhau về khoản tiền đòi bồi thường, và hơn hết ở biểu đồ cột, chúng ta có thể thấy được số lượng xe đòi bồi thường ở mỗi hãng xe giữa hợp đồng được chấp thuận và bị coi gian lận ko đồng đều\n",
    "- Auto_make có thể là một biến tốt cho dữ liệu"
   ]
  },
  {
   "cell_type": "code",
   "execution_count": null,
   "id": "5be2ddc7",
   "metadata": {},
   "outputs": [],
   "source": []
  },
  {
   "cell_type": "code",
   "execution_count": null,
   "id": "6a79bd9e",
   "metadata": {},
   "outputs": [],
   "source": [
    "sns.countplot(x='policy_state',hue='fraud_reported', data=data)\n",
    "plt.title('Biểu đồ thể hiện tương quan trụ sở đăng ký bảo hiểm giữa hợp đồng được chấp thuận và bị coi là gian lận')\n",
    "\n",
    "plt.show()"
   ]
  },
  {
   "cell_type": "code",
   "execution_count": null,
   "id": "4203b0a4",
   "metadata": {},
   "outputs": [],
   "source": [
    "plt.figure(figsize=(8,8))\n",
    "# Vẽ biểu đồ ở hàng 0\n",
    "plt.subplot(2,2,1)\n",
    "data1=data[data['policy_csl']=='250/500']\n",
    "data1=data1['fraud_reported'].value_counts()\n",
    "data1.plot(kind='pie')\n",
    "\n",
    "plt.subplot(2,2,2)\n",
    "data2=data[data['policy_csl']=='100/300']\n",
    "data2=data2['fraud_reported'].value_counts()\n",
    "data2.plot(kind='pie')\n",
    "\n",
    "plt.subplot(2,2,(3,4))\n",
    "data3=data[data['policy_csl']=='500/1000']\n",
    "data3=data3['fraud_reported'].value_counts()\n",
    "data3.plot(kind='pie')\n",
    "\n",
    "\n",
    "# Tùy chỉnh tiêu đề\n",
    "plt.suptitle(\"Biểu đồ thể hiện mức ưu đãi của bảo hiểm có ảnh hưởng đến yếu tố gian lận ko\")\n",
    "plt.tight_layout()\n",
    "# Hiển thị figure\n",
    "plt.show()"
   ]
  },
  {
   "cell_type": "code",
   "execution_count": null,
   "id": "bc574f2c",
   "metadata": {},
   "outputs": [],
   "source": [
    "\n",
    "sns.pairplot(data=data, vars=[\"total_claim_amount\", \"day_incident_date\"], hue='fraud_reported' )\n",
    "plt.show()"
   ]
  },
  {
   "cell_type": "code",
   "execution_count": null,
   "id": "e87c1a05",
   "metadata": {},
   "outputs": [],
   "source": [
    "sns.jointplot(x='vehicle_claim', y='total_claim_amount', data=data, kind=\"reg\")"
   ]
  },
  {
   "cell_type": "code",
   "execution_count": null,
   "id": "5834f085",
   "metadata": {},
   "outputs": [],
   "source": [
    "data.columns"
   ]
  },
  {
   "cell_type": "code",
   "execution_count": null,
   "id": "e1298834",
   "metadata": {},
   "outputs": [],
   "source": [
    "data['policy_csl'].value_counts()"
   ]
  },
  {
   "cell_type": "code",
   "execution_count": null,
   "id": "91e33aea",
   "metadata": {},
   "outputs": [],
   "source": [
    "data.dtypes"
   ]
  },
  {
   "cell_type": "code",
   "execution_count": null,
   "id": "4a03a929",
   "metadata": {},
   "outputs": [],
   "source": [
    "data.to_excel(f'{exps_dir}/data/data_EDA.xlsx', index=None)\n",
    "object_columns = list(data.select_dtypes(['object']).columns)\n",
    "data[object_columns]=data[object_columns].astype('category')\n",
    "category_columns = list(data.select_dtypes(['category']).columns)\n",
    "np.savez(f'{exps_dir}/data/columns_dtype.npz', category_columns = category_columns, numeric_columns = numeric_columns)\n"
   ]
  },
  {
   "cell_type": "code",
   "execution_count": null,
   "id": "c769cde7",
   "metadata": {},
   "outputs": [],
   "source": []
  }
 ],
 "metadata": {
  "kernelspec": {
   "display_name": "Python 3 (ipykernel)",
   "language": "python",
   "name": "python3"
  },
  "language_info": {
   "codemirror_mode": {
    "name": "ipython",
    "version": 3
   },
   "file_extension": ".py",
   "mimetype": "text/x-python",
   "name": "python",
   "nbconvert_exporter": "python",
   "pygments_lexer": "ipython3",
   "version": "3.9.18"
  }
 },
 "nbformat": 4,
 "nbformat_minor": 5
}
